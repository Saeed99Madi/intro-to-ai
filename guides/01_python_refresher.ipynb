{
 "cells": [
  {
   "cell_type": "markdown",
   "metadata": {},
   "source": [
    "# Python Refresher for AI Course\n",
    "\n",
    "This notebook covers essential Python concepts you'll need for the Introduction to AI course. If you're new to Python or need a quick review, work through this before starting Week 1.\n",
    "\n",
    "## Topics Covered\n",
    "\n",
    "1. Basic Data Types\n",
    "2. Control Flow (if, for, while)\n",
    "3. Functions\n",
    "4. Data Structures (lists, dictionaries, sets, tuples)\n",
    "5. List Comprehensions\n",
    "6. Basic OOP (Classes and Objects)\n",
    "7. Key Python Libraries for AI"
   ]
  },
  {
   "cell_type": "markdown",
   "metadata": {},
   "source": [
    "## 1. Basic Data Types\n",
    "\n",
    "Python has several built-in data types:"
   ]
  },
  {
   "cell_type": "code",
   "execution_count": null,
   "metadata": {},
   "outputs": [],
   "source": [
    "# Numbers\n",
    "integer_num = 42\n",
    "float_num = 3.14\n",
    "\n",
    "# Strings\n",
    "text = \"Hello, AI!\"\n",
    "multiline = \"\"\"This is a\n",
    "multiline string\"\"\"\n",
    "\n",
    "# Booleans\n",
    "is_active = True\n",
    "is_complete = False\n",
    "\n",
    "# None (represents absence of value)\n",
    "result = None\n",
    "\n",
    "print(f\"Integer: {integer_num}, type: {type(integer_num)}\")\n",
    "print(f\"Float: {float_num}, type: {type(float_num)}\")\n",
    "print(f\"String: {text}, type: {type(text)}\")\n",
    "print(f\"Boolean: {is_active}, type: {type(is_active)}\")"
   ]
  },
  {
   "cell_type": "markdown",
   "metadata": {},
   "source": [
    "## 2. Control Flow\n",
    "\n",
    "### If Statements"
   ]
  },
  {
   "cell_type": "code",
   "execution_count": null,
   "metadata": {},
   "outputs": [],
   "source": [
    "temperature = 25\n",
    "\n",
    "if temperature > 30:\n",
    "    print(\"It's hot!\")\n",
    "elif temperature > 20:\n",
    "    print(\"It's comfortable\")\n",
    "else:\n",
    "    print(\"It's cold!\")\n",
    "\n",
    "# Ternary operator (one-line if-else)\n",
    "status = \"hot\" if temperature > 30 else \"not hot\"\n",
    "print(f\"Status: {status}\")"
   ]
  },
  {
   "cell_type": "markdown",
   "metadata": {},
   "source": [
    "### For Loops"
   ]
  },
  {
   "cell_type": "code",
   "execution_count": null,
   "metadata": {},
   "outputs": [],
   "source": [
    "# Loop over a range\n",
    "print(\"Counting to 5:\")\n",
    "for i in range(5):\n",
    "    print(i, end=\" \")\n",
    "print()\n",
    "\n",
    "# Loop over a list\n",
    "fruits = [\"apple\", \"banana\", \"cherry\"]\n",
    "print(\"\\nFruits:\")\n",
    "for fruit in fruits:\n",
    "    print(fruit)\n",
    "\n",
    "# Loop with index using enumerate\n",
    "print(\"\\nFruits with index:\")\n",
    "for idx, fruit in enumerate(fruits):\n",
    "    print(f\"{idx}: {fruit}\")"
   ]
  },
  {
   "cell_type": "markdown",
   "metadata": {},
   "source": [
    "### While Loops"
   ]
  },
  {
   "cell_type": "code",
   "execution_count": null,
   "metadata": {},
   "outputs": [],
   "source": [
    "count = 0\n",
    "while count < 5:\n",
    "    print(f\"Count: {count}\")\n",
    "    count += 1\n",
    "\n",
    "# Break and continue\n",
    "print(\"\\nUsing break:\")\n",
    "for i in range(10):\n",
    "    if i == 5:\n",
    "        break  # Exit the loop\n",
    "    print(i, end=\" \")\n",
    "\n",
    "print(\"\\n\\nUsing continue:\")\n",
    "for i in range(10):\n",
    "    if i % 2 == 0:\n",
    "        continue  # Skip even numbers\n",
    "    print(i, end=\" \")"
   ]
  },
  {
   "cell_type": "markdown",
   "metadata": {},
   "source": [
    "## 3. Functions\n",
    "\n",
    "Functions are reusable blocks of code."
   ]
  },
  {
   "cell_type": "code",
   "execution_count": null,
   "metadata": {},
   "outputs": [],
   "source": [
    "# Basic function\n",
    "def greet(name):\n",
    "    return f\"Hello, {name}!\"\n",
    "\n",
    "print(greet(\"Alice\"))\n",
    "\n",
    "# Function with default arguments\n",
    "def power(base, exponent=2):\n",
    "    return base ** exponent\n",
    "\n",
    "print(f\"2^3 = {power(2, 3)}\")\n",
    "print(f\"2^2 = {power(2)}\")\n",
    "\n",
    "# Function with multiple return values\n",
    "def get_stats(numbers):\n",
    "    return min(numbers), max(numbers), sum(numbers) / len(numbers)\n",
    "\n",
    "nums = [1, 2, 3, 4, 5]\n",
    "minimum, maximum, average = get_stats(nums)\n",
    "print(f\"Min: {minimum}, Max: {maximum}, Avg: {average}\")\n",
    "\n",
    "# Lambda functions (anonymous functions)\n",
    "square = lambda x: x ** 2\n",
    "print(f\"Square of 5: {square(5)}\")"
   ]
  },
  {
   "cell_type": "markdown",
   "metadata": {},
   "source": [
    "## 4. Data Structures\n",
    "\n",
    "### Lists (Ordered, Mutable)"
   ]
  },
  {
   "cell_type": "code",
   "execution_count": null,
   "metadata": {},
   "outputs": [],
   "source": [
    "# Creating and manipulating lists\n",
    "numbers = [1, 2, 3, 4, 5]\n",
    "print(f\"Original list: {numbers}\")\n",
    "\n",
    "# Accessing elements\n",
    "print(f\"First element: {numbers[0]}\")\n",
    "print(f\"Last element: {numbers[-1]}\")\n",
    "\n",
    "# Slicing\n",
    "print(f\"First three: {numbers[:3]}\")\n",
    "print(f\"Last two: {numbers[-2:]}\")\n",
    "\n",
    "# Modifying lists\n",
    "numbers.append(6)  # Add to end\n",
    "numbers.insert(0, 0)  # Insert at position\n",
    "numbers.remove(3)  # Remove specific value\n",
    "print(f\"Modified list: {numbers}\")\n",
    "\n",
    "# List methods\n",
    "print(f\"Length: {len(numbers)}\")\n",
    "print(f\"Sum: {sum(numbers)}\")\n",
    "print(f\"Max: {max(numbers)}\")"
   ]
  },
  {
   "cell_type": "markdown",
   "metadata": {},
   "source": [
    "### Dictionaries (Key-Value Pairs)"
   ]
  },
  {
   "cell_type": "code",
   "execution_count": null,
   "metadata": {},
   "outputs": [],
   "source": [
    "# Creating dictionaries\n",
    "student = {\n",
    "    \"name\": \"Alice\",\n",
    "    \"age\": 20,\n",
    "    \"grades\": [85, 90, 95]\n",
    "}\n",
    "\n",
    "# Accessing values\n",
    "print(f\"Name: {student['name']}\")\n",
    "print(f\"Age: {student.get('age', 'Unknown')}\")\n",
    "\n",
    "# Adding/modifying\n",
    "student[\"major\"] = \"Computer Science\"\n",
    "student[\"age\"] = 21\n",
    "\n",
    "# Iterating over dictionaries\n",
    "print(\"\\nStudent info:\")\n",
    "for key, value in student.items():\n",
    "    print(f\"  {key}: {value}\")\n",
    "\n",
    "# Dictionary methods\n",
    "print(f\"\\nKeys: {list(student.keys())}\")\n",
    "print(f\"Values: {list(student.values())}\")"
   ]
  },
  {
   "cell_type": "markdown",
   "metadata": {},
   "source": [
    "### Sets (Unordered, Unique Elements)"
   ]
  },
  {
   "cell_type": "code",
   "execution_count": null,
   "metadata": {},
   "outputs": [],
   "source": [
    "# Creating sets\n",
    "unique_numbers = {1, 2, 3, 3, 4, 5}  # Duplicates removed\n",
    "print(f\"Set: {unique_numbers}\")\n",
    "\n",
    "# Set operations\n",
    "set_a = {1, 2, 3, 4}\n",
    "set_b = {3, 4, 5, 6}\n",
    "\n",
    "print(f\"Union: {set_a | set_b}\")\n",
    "print(f\"Intersection: {set_a & set_b}\")\n",
    "print(f\"Difference: {set_a - set_b}\")\n",
    "\n",
    "# Sets are fast for membership testing\n",
    "print(f\"Is 3 in set_a? {3 in set_a}\")"
   ]
  },
  {
   "cell_type": "markdown",
   "metadata": {},
   "source": [
    "### Tuples (Ordered, Immutable)"
   ]
  },
  {
   "cell_type": "code",
   "execution_count": null,
   "metadata": {},
   "outputs": [],
   "source": [
    "# Tuples are like lists but immutable\n",
    "coordinates = (10, 20)\n",
    "print(f\"Coordinates: {coordinates}\")\n",
    "\n",
    "# Unpacking tuples\n",
    "x, y = coordinates\n",
    "print(f\"x={x}, y={y}\")\n",
    "\n",
    "# Tuples are often used for multiple return values\n",
    "def get_position():\n",
    "    return (5, 10)\n",
    "\n",
    "pos_x, pos_y = get_position()\n",
    "print(f\"Position: ({pos_x}, {pos_y})\")"
   ]
  },
  {
   "cell_type": "markdown",
   "metadata": {},
   "source": [
    "## 5. List Comprehensions\n",
    "\n",
    "A concise way to create lists. You'll use these a lot in AI!"
   ]
  },
  {
   "cell_type": "code",
   "execution_count": null,
   "metadata": {},
   "outputs": [],
   "source": [
    "# Traditional way\n",
    "squares = []\n",
    "for i in range(10):\n",
    "    squares.append(i ** 2)\n",
    "print(f\"Traditional: {squares}\")\n",
    "\n",
    "# List comprehension way\n",
    "squares = [i ** 2 for i in range(10)]\n",
    "print(f\"Comprehension: {squares}\")\n",
    "\n",
    "# With condition\n",
    "even_squares = [i ** 2 for i in range(10) if i % 2 == 0]\n",
    "print(f\"Even squares: {even_squares}\")\n",
    "\n",
    "# Dictionary comprehension\n",
    "square_dict = {i: i ** 2 for i in range(5)}\n",
    "print(f\"Square dict: {square_dict}\")\n",
    "\n",
    "# Set comprehension\n",
    "unique_lengths = {len(word) for word in [\"hello\", \"world\", \"ai\", \"python\"]}\n",
    "print(f\"Unique word lengths: {unique_lengths}\")"
   ]
  },
  {
   "cell_type": "markdown",
   "metadata": {},
   "source": [
    "## 6. Basic Object-Oriented Programming\n",
    "\n",
    "Classes help organize code and represent real-world entities."
   ]
  },
  {
   "cell_type": "code",
   "execution_count": null,
   "metadata": {},
   "outputs": [],
   "source": [
    "# Define a class\n",
    "class SearchNode:\n",
    "    \"\"\"Represents a node in a search tree.\"\"\"\n",
    "    \n",
    "    def __init__(self, state, parent=None, cost=0):\n",
    "        \"\"\"Initialize a search node.\"\"\"\n",
    "        self.state = state\n",
    "        self.parent = parent\n",
    "        self.cost = cost\n",
    "    \n",
    "    def get_path(self):\n",
    "        \"\"\"Return the path from root to this node.\"\"\"\n",
    "        path = []\n",
    "        current = self\n",
    "        while current is not None:\n",
    "            path.append(current.state)\n",
    "            current = current.parent\n",
    "        return list(reversed(path))\n",
    "    \n",
    "    def __repr__(self):\n",
    "        \"\"\"String representation of the node.\"\"\"\n",
    "        return f\"Node(state={self.state}, cost={self.cost})\"\n",
    "\n",
    "# Create instances\n",
    "root = SearchNode(state=\"A\", cost=0)\n",
    "child = SearchNode(state=\"B\", parent=root, cost=1)\n",
    "grandchild = SearchNode(state=\"C\", parent=child, cost=2)\n",
    "\n",
    "print(f\"Root: {root}\")\n",
    "print(f\"Path to grandchild: {grandchild.get_path()}\")\n",
    "print(f\"Total cost: {grandchild.cost}\")"
   ]
  },
  {
   "cell_type": "markdown",
   "metadata": {},
   "source": [
    "## 7. Key Python Libraries for AI\n",
    "\n",
    "Let's test the main libraries you'll use in this course."
   ]
  },
  {
   "cell_type": "code",
   "execution_count": null,
   "metadata": {},
   "outputs": [],
   "source": [
    "# NumPy - Numerical computing\n",
    "import numpy as np\n",
    "\n",
    "# Create arrays\n",
    "arr = np.array([1, 2, 3, 4, 5])\n",
    "matrix = np.array([[1, 2], [3, 4]])\n",
    "\n",
    "print(f\"Array: {arr}\")\n",
    "print(f\"Matrix:\\n{matrix}\")\n",
    "print(f\"Array mean: {arr.mean()}\")\n",
    "print(f\"Matrix sum: {matrix.sum()}\")\n",
    "\n",
    "# Array operations are vectorized (fast!)\n",
    "print(f\"Array * 2: {arr * 2}\")\n",
    "print(f\"Array squared: {arr ** 2}\")"
   ]
  },
  {
   "cell_type": "code",
   "execution_count": null,
   "metadata": {},
   "outputs": [],
   "source": [
    "# Matplotlib - Plotting\n",
    "import matplotlib.pyplot as plt\n",
    "\n",
    "x = np.linspace(0, 10, 100)\n",
    "y = np.sin(x)\n",
    "\n",
    "plt.figure(figsize=(10, 4))\n",
    "plt.plot(x, y, label='sin(x)')\n",
    "plt.xlabel('x')\n",
    "plt.ylabel('y')\n",
    "plt.title('Sine Wave')\n",
    "plt.legend()\n",
    "plt.grid(True)\n",
    "plt.show()"
   ]
  },
  {
   "cell_type": "markdown",
   "metadata": {},
   "source": [
    "## Practice Exercises\n",
    "\n",
    "Try these exercises to test your understanding:"
   ]
  },
  {
   "cell_type": "code",
   "execution_count": null,
   "metadata": {},
   "outputs": [],
   "source": [
    "# Exercise 1: Write a function that returns the factorial of a number\n",
    "def factorial(n):\n",
    "    # Your code here\n",
    "    pass\n",
    "\n",
    "# Test: factorial(5) should return 120\n",
    "\n",
    "# Exercise 2: Use a list comprehension to create a list of all even numbers from 1 to 20\n",
    "even_numbers = []  # Your code here\n",
    "\n",
    "# Exercise 3: Create a dictionary that maps each letter in a word to its position\n",
    "def letter_positions(word):\n",
    "    # Your code here\n",
    "    pass\n",
    "\n",
    "# Test: letter_positions(\"hello\") should return {'h': 0, 'e': 1, 'l': 3, 'o': 4}\n",
    "\n",
    "# Exercise 4: Write a function that finds the most common element in a list\n",
    "def most_common(lst):\n",
    "    # Your code here\n",
    "    pass\n",
    "\n",
    "# Test: most_common([1, 2, 3, 2, 1, 1]) should return 1"
   ]
  },
  {
   "cell_type": "markdown",
   "metadata": {},
   "source": [
    "## Solutions (Try the exercises first!)"
   ]
  },
  {
   "cell_type": "code",
   "execution_count": null,
   "metadata": {},
   "outputs": [],
   "source": [
    "# Solution 1\n",
    "def factorial(n):\n",
    "    if n <= 1:\n",
    "        return 1\n",
    "    return n * factorial(n - 1)\n",
    "\n",
    "print(f\"Factorial of 5: {factorial(5)}\")\n",
    "\n",
    "# Solution 2\n",
    "even_numbers = [i for i in range(1, 21) if i % 2 == 0]\n",
    "print(f\"Even numbers: {even_numbers}\")\n",
    "\n",
    "# Solution 3\n",
    "def letter_positions(word):\n",
    "    return {letter: idx for idx, letter in enumerate(word)}\n",
    "\n",
    "print(f\"Letter positions in 'hello': {letter_positions('hello')}\")\n",
    "\n",
    "# Solution 4\n",
    "def most_common(lst):\n",
    "    return max(set(lst), key=lst.count)\n",
    "\n",
    "print(f\"Most common: {most_common([1, 2, 3, 2, 1, 1])}\")"
   ]
  },
  {
   "cell_type": "markdown",
   "metadata": {},
   "source": [
    "## Summary\n",
    "\n",
    "You now know:\n",
    "- ✓ Python basic data types\n",
    "- ✓ Control flow (if, for, while)\n",
    "- ✓ Functions and lambda expressions\n",
    "- ✓ Data structures (lists, dicts, sets, tuples)\n",
    "- ✓ List comprehensions\n",
    "- ✓ Basic OOP concepts\n",
    "- ✓ Essential libraries (NumPy, Matplotlib)\n",
    "\n",
    "## Next Steps\n",
    "\n",
    "1. Review any topics you found challenging\n",
    "2. Check out [NumPy Basics](02_numpy_basics.ipynb) for more on numerical computing\n",
    "3. Start [Week 1: Search](../1_search/1_lab1.ipynb) when you're ready!\n",
    "\n",
    "## Additional Resources\n",
    "\n",
    "- [Python Official Tutorial](https://docs.python.org/3/tutorial/)\n",
    "- [Real Python Tutorials](https://realpython.com/)\n",
    "- [Python Cheat Sheet](https://www.pythoncheatsheet.org/)\n",
    "\n",
    "Happy coding! 🐍"
   ]
  }
 ],
 "metadata": {
  "kernelspec": {
   "display_name": "Python 3",
   "language": "python",
   "name": "python3"
  },
  "language_info": {
   "codemirror_mode": {
    "name": "ipython",
    "version": 3
   },
   "file_extension": ".py",
   "mimetype": "text/x-python",
   "name": "python",
   "nbconvert_exporter": "python",
   "pygments_lexer": "ipython3",
   "version": "3.10.0"
  }
 },
 "nbformat": 4,
 "nbformat_minor": 4
}
